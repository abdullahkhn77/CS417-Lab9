{
  "cells": [
    {
      "cell_type": "code",
      "execution_count": 1,
      "metadata": {
        "colab": {
          "base_uri": "https://localhost:8080/"
        },
        "id": "MshInlsRcbMU",
        "outputId": "bd9bd76c-82f6-424c-b81d-0241bfbff9e2"
      },
      "outputs": [
        {
          "output_type": "stream",
          "name": "stdout",
          "text": [
            "Mounted at /content/drive\n"
          ]
        }
      ],
      "source": [
        "from google.colab import drive\n",
        "drive.mount('/content/drive')"
      ]
    },
    {
      "cell_type": "code",
      "execution_count": 2,
      "metadata": {
        "colab": {
          "base_uri": "https://localhost:8080/"
        },
        "id": "1VJMuvm-ciY8",
        "outputId": "fbacf4bd-72c6-4ea1-ee2e-d1ff081f342e"
      },
      "outputs": [
        {
          "output_type": "stream",
          "name": "stdout",
          "text": [
            "Collecting virtualenv\n",
            "  Downloading virtualenv-20.25.0-py3-none-any.whl (3.8 MB)\n",
            "\u001b[2K     \u001b[90m━━━━━━━━━━━━━━━━━━━━━━━━━━━━━━━━━━━━━━━━\u001b[0m \u001b[32m3.8/3.8 MB\u001b[0m \u001b[31m15.3 MB/s\u001b[0m eta \u001b[36m0:00:00\u001b[0m\n",
            "\u001b[?25hCollecting distlib<1,>=0.3.7 (from virtualenv)\n",
            "  Downloading distlib-0.3.8-py2.py3-none-any.whl (468 kB)\n",
            "\u001b[2K     \u001b[90m━━━━━━━━━━━━━━━━━━━━━━━━━━━━━━━━━━━━━━━━\u001b[0m \u001b[32m468.9/468.9 kB\u001b[0m \u001b[31m39.6 MB/s\u001b[0m eta \u001b[36m0:00:00\u001b[0m\n",
            "\u001b[?25hRequirement already satisfied: filelock<4,>=3.12.2 in /usr/local/lib/python3.10/dist-packages (from virtualenv) (3.13.1)\n",
            "Requirement already satisfied: platformdirs<5,>=3.9.1 in /usr/local/lib/python3.10/dist-packages (from virtualenv) (4.1.0)\n",
            "Installing collected packages: distlib, virtualenv\n",
            "Successfully installed distlib-0.3.8 virtualenv-20.25.0\n"
          ]
        }
      ],
      "source": [
        "pip install virtualenv"
      ]
    },
    {
      "cell_type": "code",
      "execution_count": 3,
      "metadata": {
        "colab": {
          "base_uri": "https://localhost:8080/"
        },
        "id": "puepsNhlcO2v",
        "outputId": "0d4c68b5-8f93-4aca-9cd6-6ba3258c9c14"
      },
      "outputs": [
        {
          "output_type": "stream",
          "name": "stdout",
          "text": [
            "created virtual environment CPython3.10.12.final.0-64 in 16108ms\n",
            "  creator CPython3Posix(dest=/content/drive/MyDrive/cuda_env, clear=False, no_vcs_ignore=False, global=False)\n",
            "  seeder FromAppData(download=False, pip=bundle, setuptools=bundle, wheel=bundle, via=copy, app_data_dir=/root/.local/share/virtualenv)\n",
            "    added seed packages: pip==23.3.1, setuptools==69.0.2, wheel==0.42.0\n",
            "  activators BashActivator,CShellActivator,FishActivator,NushellActivator,PowerShellActivator,PythonActivator\n"
          ]
        }
      ],
      "source": [
        "!virtualenv /content/drive/MyDrive/cuda_env"
      ]
    },
    {
      "cell_type": "code",
      "execution_count": 4,
      "metadata": {
        "id": "GYs4y4fucvyt"
      },
      "outputs": [],
      "source": [
        "!source /content/drive/MyDrive/cuda_env/bin/activate"
      ]
    },
    {
      "cell_type": "code",
      "execution_count": 5,
      "metadata": {
        "colab": {
          "base_uri": "https://localhost:8080/"
        },
        "id": "5B9xzcdIc7rP",
        "outputId": "f9997806-8eaa-4637-df28-762a16e2be9f"
      },
      "outputs": [
        {
          "output_type": "stream",
          "name": "stdout",
          "text": [
            "nvcc: NVIDIA (R) Cuda compiler driver\n",
            "Copyright (c) 2005-2023 NVIDIA Corporation\n",
            "Built on Tue_Aug_15_22:02:13_PDT_2023\n",
            "Cuda compilation tools, release 12.2, V12.2.140\n",
            "Build cuda_12.2.r12.2/compiler.33191640_0\n"
          ]
        }
      ],
      "source": [
        "!nvcc --version"
      ]
    },
    {
      "cell_type": "code",
      "execution_count": 6,
      "metadata": {
        "colab": {
          "base_uri": "https://localhost:8080/"
        },
        "id": "b90PeVHcc_8v",
        "outputId": "509615bf-342b-4c4c-c025-c2697a76cf9a"
      },
      "outputs": [
        {
          "output_type": "stream",
          "name": "stdout",
          "text": [
            "Collecting git+https://github.com/andreinechaev/nvcc4jupyter.git\n",
            "  Cloning https://github.com/andreinechaev/nvcc4jupyter.git to /tmp/pip-req-build-v2gj7geu\n",
            "  Running command git clone --filter=blob:none --quiet https://github.com/andreinechaev/nvcc4jupyter.git /tmp/pip-req-build-v2gj7geu\n",
            "  Resolved https://github.com/andreinechaev/nvcc4jupyter.git to commit 0a71d56e5dce3ff1f0dd2c47c29367629262f527\n",
            "  Preparing metadata (setup.py) ... \u001b[?25l\u001b[?25hdone\n",
            "Building wheels for collected packages: NVCCPlugin\n",
            "  Building wheel for NVCCPlugin (setup.py) ... \u001b[?25l\u001b[?25hdone\n",
            "  Created wheel for NVCCPlugin: filename=NVCCPlugin-0.0.2-py3-none-any.whl size=4293 sha256=7003ac528752de1af536a9d565f84c0c8dbee689d9c0ea7854c5a58acf329ab0\n",
            "  Stored in directory: /tmp/pip-ephem-wheel-cache-0t3_li_w/wheels/a8/b9/18/23f8ef71ceb0f63297dd1903aedd067e6243a68ea756d6feea\n",
            "Successfully built NVCCPlugin\n",
            "Installing collected packages: NVCCPlugin\n",
            "Successfully installed NVCCPlugin-0.0.2\n"
          ]
        }
      ],
      "source": [
        "!pip install git+https://github.com/andreinechaev/nvcc4jupyter.git"
      ]
    },
    {
      "cell_type": "code",
      "execution_count": 7,
      "metadata": {
        "colab": {
          "base_uri": "https://localhost:8080/"
        },
        "id": "lz4KG0eXQt6a",
        "outputId": "708c0172-ff30-412a-8ab5-d473f8eaf657"
      },
      "outputs": [
        {
          "output_type": "stream",
          "name": "stdout",
          "text": [
            "created output directory at /content/src\n",
            "Out bin /content/result.out\n"
          ]
        }
      ],
      "source": [
        "%load_ext nvcc_plugin"
      ]
    },
    {
      "cell_type": "code",
      "source": [
        "%%cu\n",
        "#include <stdio.h>\n",
        "\n",
        "#define TILE_WIDTH 3\n",
        "\n",
        "const int MATRIX_SIZE=3;\n",
        "\n",
        "__global__ void matrixMulShared(float *A, float *B, float *C) {\n",
        "    __shared__ float sA[TILE_WIDTH][TILE_WIDTH];\n",
        "    __shared__ float sB[TILE_WIDTH][TILE_WIDTH];\n",
        "\n",
        "    int row = blockIdx.y * blockDim.y + threadIdx.y;\n",
        "    int col = blockIdx.x * blockDim.x + threadIdx.x;\n",
        "\n",
        "    float Cvalue = 0.0;\n",
        "\n",
        "    for (int k = 0; k < TILE_WIDTH; ++k) {\n",
        "        sA[threadIdx.y][threadIdx.x] = A[row * TILE_WIDTH + k];\n",
        "        sB[threadIdx.y][threadIdx.x] = B[k * TILE_WIDTH + col];\n",
        "\n",
        "        __syncthreads();\n",
        "\n",
        "        for (int m = 0; m < TILE_WIDTH; ++m) {\n",
        "            Cvalue += sA[threadIdx.y][m] * sB[m][threadIdx.x];\n",
        "        }\n",
        "\n",
        "        __syncthreads();\n",
        "    }\n",
        "\n",
        "    C[row * TILE_WIDTH + col] = Cvalue;\n",
        "}\n",
        "\n",
        "__global__ void matrixMulGlobal(float *A, float *B, float *C) {\n",
        "    int row = blockIdx.y * blockDim.y + threadIdx.y;\n",
        "    int col = blockIdx.x * blockDim.x + threadIdx.x;\n",
        "\n",
        "    float Cvalue = 0.0;\n",
        "\n",
        "    for (int k = 0; k < MATRIX_SIZE; ++k) {\n",
        "        Cvalue += A[row * MATRIX_SIZE + k] * B[k * MATRIX_SIZE + col];\n",
        "    }\n",
        "\n",
        "    C[row * MATRIX_SIZE + col] = Cvalue;\n",
        "}\n",
        "\n",
        "int main() {\n",
        "    const int size = 3 * 3 * sizeof(float);\n",
        "    float h_A[9] = {1, 2, 3, 4, 5, 6, 7, 8, 9};\n",
        "    float h_B[9] = {9, 5, 12, 52, -52, 15, -21, 52, 21};\n",
        "    float h_C[9];\n",
        "\n",
        "    float *d_A, *d_B, *d_C;\n",
        "\n",
        "    cudaMalloc((void **)&d_A, size);\n",
        "    cudaMalloc((void **)&d_B, size);\n",
        "    cudaMalloc((void **)&d_C, size);\n",
        "\n",
        "    cudaMemcpy(d_A, h_A, size, cudaMemcpyHostToDevice);\n",
        "    cudaMemcpy(d_B, h_B, size, cudaMemcpyHostToDevice);\n",
        "\n",
        "    dim3 dimGrid(1, 1);\n",
        "    dim3 dimBlock(TILE_WIDTH, TILE_WIDTH);\n",
        "\n",
        "\n",
        "\n",
        "    matrixMulShared<<<dimGrid, dimBlock>>>(d_A, d_B, d_C);\n",
        "    cudaMemcpy(h_C, d_C, size, cudaMemcpyDeviceToHost);\n",
        "\n",
        "\n",
        "\n",
        "    printf(\"Resultant Matrix:\\n\");\n",
        "    for (int i = 0; i < 3; ++i) {\n",
        "        for (int j = 0; j < 3; ++j) {\n",
        "            printf(\"%.2f \", h_C[i * 3 + j]);\n",
        "        }\n",
        "        printf(\"\\n\");\n",
        "    }\n",
        "\n",
        "    cudaEvent_t start, stop;\n",
        "    cudaEventCreate(&start);\n",
        "    cudaEventCreate(&stop);\n",
        "\n",
        "    cudaEventRecord(start);\n",
        "    matrixMulGlobal<<<dimGrid, dimBlock>>>(d_A, d_B, d_C);\n",
        "    cudaEventRecord(stop);\n",
        "\n",
        "    cudaMemcpy(h_C, d_C, size, cudaMemcpyDeviceToHost);\n",
        "\n",
        "    cudaEventSynchronize(stop);\n",
        "    float milliseconds = 0;\n",
        "    cudaEventElapsedTime(&milliseconds, start, stop);\n",
        "\n",
        "    printf(\"Time taken for matrix multiplication using Global Memory: %.2f ms\\n\", milliseconds);\n",
        "\n",
        "    cudaFree(d_A);\n",
        "    cudaFree(d_B);\n",
        "    cudaFree(d_C);\n",
        "\n",
        "    return 0;\n",
        "}"
      ],
      "metadata": {
        "colab": {
          "base_uri": "https://localhost:8080/"
        },
        "id": "zV1YBmuZOdE0",
        "outputId": "f36384ff-710f-4b02-f1fc-315f59204a43"
      },
      "execution_count": 91,
      "outputs": [
        {
          "output_type": "stream",
          "name": "stdout",
          "text": [
            "Resultant Matrix:\n",
            "150.00 171.00 315.00 \n",
            "510.00 216.00 747.00 \n",
            "870.00 261.00 1179.00 \n",
            "Time taken for matrix multiplication using Global Memory: 0.03 ms\n",
            "\n"
          ]
        }
      ]
    },
    {
      "cell_type": "code",
      "source": [],
      "metadata": {
        "id": "C8CxwWY_vlDZ"
      },
      "execution_count": null,
      "outputs": []
    }
  ],
  "metadata": {
    "accelerator": "GPU",
    "colab": {
      "provenance": []
    },
    "kernelspec": {
      "display_name": "Python 3",
      "name": "python3"
    },
    "language_info": {
      "name": "python"
    }
  },
  "nbformat": 4,
  "nbformat_minor": 0
}